{
 "cells": [
  {
   "cell_type": "code",
   "execution_count": 12,
   "metadata": {},
   "outputs": [],
   "source": [
    "import pandas as pd \n",
    "from sklearn.model_selection import train_test_split \n",
    "from sklearn.neighbors import KNeighborsClassifier\n",
    "import numpy as np\n",
    "from glob import glob\n",
    "from sklearn.model_selection import cross_val_score\n",
    "from sklearn.model_selection import GridSearchCV\n",
    "from sklearn.preprocessing import StandardScaler"
   ]
  },
  {
   "cell_type": "code",
   "execution_count": 13,
   "metadata": {},
   "outputs": [],
   "source": [
    "ss = StandardScaler()\n",
    "\n",
    "def is_healty(typePlant):\n",
    "  return int(typePlant != \"braquiaria\")"
   ]
  },
  {
   "cell_type": "code",
   "execution_count": 14,
   "metadata": {},
   "outputs": [],
   "source": [
    "stock_files = sorted(glob(\"data/_*.csv\"))\n",
    "\n",
    "all_data = pd.concat((pd.read_csv(file).assign(filename = file)\n",
    "          for file in stock_files), ignore_index = True)\n",
    "classesNames = [c.split('_')[-1][:-4] for c in stock_files]"
   ]
  },
  {
   "cell_type": "code",
   "execution_count": 15,
   "metadata": {},
   "outputs": [],
   "source": [
    "all_data = all_data.drop(columns=['Function', 'Sample num'])"
   ]
  },
  {
   "cell_type": "code",
   "execution_count": 16,
   "metadata": {},
   "outputs": [],
   "source": [
    "X = np.asarray(all_data[['F1 (410nm)', \n",
    "                         'F2 (440nm)',\n",
    "                         'F3 (470nm)',\n",
    "                         'F4 (510nm)',\n",
    "                         'F5 (550nm)',\n",
    "                         'F6 (583nm)',\n",
    "                         'F7 (620nm)',\n",
    "                         'F8 (670nm)',\n",
    "                         'CLEAR']])"
   ]
  },
  {
   "cell_type": "code",
   "execution_count": 17,
   "metadata": {},
   "outputs": [],
   "source": [
    "Y = np.asarray([classesNames.index(fn.split('_')[-1][:-4]) for fn in all_data['filename']])"
   ]
  },
  {
   "cell_type": "code",
   "execution_count": 18,
   "metadata": {},
   "outputs": [
    {
     "name": "stdout",
     "output_type": "stream",
     "text": [
      "quantidade de dados de treino: (473, 9)\n",
      "quantidade de dados de teste: (158, 9)\n"
     ]
    }
   ],
   "source": [
    "X_train, X_test, Y_train, Y_test = train_test_split(X, Y, test_size=0.25, shuffle=True) \n",
    "print(\"quantidade de dados de treino: {}\".format(X_train.shape))\n",
    "print(\"quantidade de dados de teste: {}\".format(X_test.shape))"
   ]
  },
  {
   "cell_type": "code",
   "execution_count": 19,
   "metadata": {},
   "outputs": [],
   "source": [
    "X_train = ss.fit_transform(X_train)\n",
    "X_test = ss.transform(X_test)"
   ]
  },
  {
   "cell_type": "code",
   "execution_count": 20,
   "metadata": {},
   "outputs": [
    {
     "name": "stdout",
     "output_type": "stream",
     "text": [
      "Fitting 3 folds for each of 20 candidates, totalling 60 fits\n"
     ]
    },
    {
     "name": "stderr",
     "output_type": "stream",
     "text": [
      "[Parallel(n_jobs=1)]: Using backend SequentialBackend with 1 concurrent workers.\n",
      "[Parallel(n_jobs=1)]: Done  60 out of  60 | elapsed:    0.3s finished\n"
     ]
    }
   ],
   "source": [
    "grid_params = {'n_neighbors': [1,3,5,11,19],\n",
    "               'weights': ['uniform', 'distance'],\n",
    "               'metric': ['euclidean', 'manhattan']}\n",
    "\n",
    "gs = GridSearchCV(KNeighborsClassifier(), grid_params, verbose=1,\n",
    "                  cv=3, n_jobs=1)\n",
    "\n",
    "gs_results = gs.fit(X_train, Y_train)"
   ]
  },
  {
   "cell_type": "code",
   "execution_count": 21,
   "metadata": {},
   "outputs": [
    {
     "name": "stdout",
     "output_type": "stream",
     "text": [
      "0.777970383509366\n",
      "KNeighborsClassifier(algorithm='auto', leaf_size=30, metric='euclidean',\n",
      "                     metric_params=None, n_jobs=None, n_neighbors=3, p=2,\n",
      "                     weights='distance')\n",
      "{'metric': 'euclidean', 'n_neighbors': 3, 'weights': 'distance'}\n"
     ]
    }
   ],
   "source": [
    "print(gs_results.best_score_)\n",
    "print(gs_results.best_estimator_)\n",
    "print(gs_results.best_params_)"
   ]
  },
  {
   "cell_type": "code",
   "execution_count": 22,
   "metadata": {},
   "outputs": [],
   "source": [
    "knn = KNeighborsClassifier(algorithm='auto', leaf_size=30, metric='manhattan',\n",
    "                     metric_params=None, n_jobs=None, n_neighbors=1, p=2,\n",
    "                     weights='uniform')"
   ]
  },
  {
   "cell_type": "code",
   "execution_count": 23,
   "metadata": {},
   "outputs": [
    {
     "data": {
      "text/plain": [
       "KNeighborsClassifier(algorithm='auto', leaf_size=30, metric='manhattan',\n",
       "                     metric_params=None, n_jobs=None, n_neighbors=1, p=2,\n",
       "                     weights='uniform')"
      ]
     },
     "execution_count": 23,
     "metadata": {},
     "output_type": "execute_result"
    }
   ],
   "source": [
    "knn.fit(X_train, Y_train) "
   ]
  },
  {
   "cell_type": "code",
   "execution_count": 24,
   "metadata": {},
   "outputs": [
    {
     "name": "stdout",
     "output_type": "stream",
     "text": [
      "Cross Treino:0.7863475177304965\n",
      "Cross Teste:0.7420833333333334\n"
     ]
    }
   ],
   "source": [
    "cv_scores_train = cross_val_score(knn, X_train, Y_train, cv=10)\n",
    "cv_scores_test = cross_val_score(knn, X_test, Y_test, cv=10)\n",
    "print('Cross Treino:{}'.format(np.mean(cv_scores_train)))\n",
    "print('Cross Teste:{}'.format(np.mean(cv_scores_test)))"
   ]
  },
  {
   "cell_type": "code",
   "execution_count": 25,
   "metadata": {},
   "outputs": [
    {
     "name": "stdout",
     "output_type": "stream",
     "text": [
      "Treino Score: 1.0\n",
      "Teste Score: 0.810126582278481\n"
     ]
    }
   ],
   "source": [
    "print(\"Treino Score: {}\".format(knn.score(X_train, Y_train))) #acertos treino\n",
    "print(\"Teste Score: {}\".format(knn.score(X_test, Y_test))) #acertos teste"
   ]
  },
  {
   "cell_type": "code",
   "execution_count": 26,
   "metadata": {},
   "outputs": [
    {
     "name": "stdout",
     "output_type": "stream",
     "text": [
      "Saida = 0, flor da classe: braquiaria\n"
     ]
    }
   ],
   "source": [
    "flowerx = ss.transform(np.array([[260, 378, 496, 636, 782, 757, 994, 1207, 5787]])) #braquiaria saudavel\n",
    "flower_type = classesNames[int(knn.predict(flowerx))]\n",
    "print(\"Saida = %d, flor da classe: %s\" % (is_healty(flower_type),flower_type))"
   ]
  },
  {
   "cell_type": "code",
   "execution_count": 27,
   "metadata": {},
   "outputs": [
    {
     "name": "stdout",
     "output_type": "stream",
     "text": [
      "Saida = 1, flor da classe: amargoso\n"
     ]
    }
   ],
   "source": [
    "flowerx = ss.transform(np.array([[366, 471, 632, 796, 999,  967,  1326, 1532, 7318]])) #AMARGOSO NÃO SAUDAVEL\n",
    "flower_type = classesNames[int(knn.predict(flowerx))]\n",
    "print(\"Saida = %d, flor da classe: %s\" % (is_healty(flower_type),flower_type))"
   ]
  },
  {
   "cell_type": "code",
   "execution_count": 28,
   "metadata": {},
   "outputs": [
    {
     "name": "stdout",
     "output_type": "stream",
     "text": [
      "Saida = 1, flor da classe: caruru\n"
     ]
    }
   ],
   "source": [
    "flowerx = ss.transform(np.array([[458, 606, 845, 1002, 1272, 1382, 1747, 2108, 8244]])) #CARURU NÃO SAUDAVEL\n",
    "flower_type = classesNames[int(knn.predict(flowerx))]\n",
    "print(\"Saida = %d, flor da classe: %s\" % (is_healty(flower_type),flower_type))"
   ]
  },
  {
   "cell_type": "code",
   "execution_count": 29,
   "metadata": {},
   "outputs": [
    {
     "name": "stdout",
     "output_type": "stream",
     "text": [
      "Saida = 1, flor da classe: juazeiro\n"
     ]
    }
   ],
   "source": [
    "flowerx = ss.transform(np.array([[387, 516 ,625, 799,  947,  946,  1145, 1379, 7544]])) #JUAZEIRO NÃO SAUDAVEL\n",
    "flower_type = classesNames[int(knn.predict(flowerx))]\n",
    "print(\"Saida = %d, flor da classe: %s\" % (is_healty(flower_type),flower_type))"
   ]
  },
  {
   "cell_type": "code",
   "execution_count": 30,
   "metadata": {},
   "outputs": [
    {
     "name": "stdout",
     "output_type": "stream",
     "text": [
      "Saida = 1, flor da classe: leiteiro\n"
     ]
    }
   ],
   "source": [
    "flowerx = ss.transform(np.array([[254, 347 ,439, 558,  674,  710,  846,  1007, 4331]])) #LEITEIRO NÃO SAUDAVEL\n",
    "flower_type = classesNames[int(knn.predict(flowerx))]\n",
    "print(\"Saida = %d, flor da classe: %s\" % (is_healty(flower_type),flower_type))"
   ]
  },
  {
   "cell_type": "code",
   "execution_count": null,
   "metadata": {},
   "outputs": [],
   "source": []
  }
 ],
 "metadata": {
  "kernelspec": {
   "display_name": "Python 3",
   "language": "python",
   "name": "python3"
  },
  "language_info": {
   "codemirror_mode": {
    "name": "ipython",
    "version": 3
   },
   "file_extension": ".py",
   "mimetype": "text/x-python",
   "name": "python",
   "nbconvert_exporter": "python",
   "pygments_lexer": "ipython3",
   "version": "3.6.9"
  }
 },
 "nbformat": 4,
 "nbformat_minor": 4
}
